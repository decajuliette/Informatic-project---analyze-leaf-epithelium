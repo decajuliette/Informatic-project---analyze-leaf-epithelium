{
 "cells": [
  {
   "cell_type": "markdown",
   "id": "a6b5a979",
   "metadata": {
    "id": "a6b5a979"
   },
   "source": [
    "# HOW MANY CELLS ?"
   ]
  },
  {
   "cell_type": "markdown",
   "id": "b1f53623",
   "metadata": {
    "id": "b1f53623"
   },
   "source": [
    "In this notebook we will count the number of cells on each image of the cleaned database."
   ]
  },
  {
   "cell_type": "code",
   "execution_count": 24,
   "id": "56698c32",
   "metadata": {},
   "outputs": [],
   "source": [
    "# We import the useful functions from the script save in the src folder\n",
    "\n",
    "from src.utils import img_greying\n",
    "from src.utils import img_blurring\n",
    "from src.utils import cell_maskification\n",
    "from src.utils import smooth\n",
    "from src.utils import small_hole_removing\n",
    "from src.utils import small_object_removing\n",
    "from src.utils import cell_erosion\n",
    "from src.utils import cell_labelisation\n",
    "from src.utils import cell_count\n",
    "from src.utils import dataframe_cells_centroid_creation\n",
    "\n",
    "# We import some existent libraries \n",
    "\n",
    "import pandas as pd\n",
    "from tifffile import imread\n",
    "import napari\n",
    "from skimage import restoration\n",
    "import skimage.filters as filters\n",
    "from skimage.morphology import disk\n",
    "from skimage import morphology\n",
    "from skimage.feature import peak_local_max\n",
    "from skimage.morphology import convex_hull_image\n",
    "from skimage.segmentation import watershed\n",
    "from scipy import ndimage as ndi\n",
    "import numpy as np\n",
    "import pandas as pd\n",
    "from skimage import measure\n",
    "import matplotlib.pyplot as plt\n",
    "import tifffile\n",
    "from scipy import ndimage as ndi\n",
    "import skimage\n",
    "from skimage.color import rgb2gray\n",
    "from typing import List\n",
    "from magicgui import magicgui\n",
    "from napari.types import ImageData, LabelsData, LayerDataTuple\n",
    "import numpy as np\n",
    "import glob\n",
    "from skimage import feature"
   ]
  },
  {
   "cell_type": "markdown",
   "id": "99df1c60",
   "metadata": {
    "id": "99df1c60"
   },
   "source": [
    "# ALL USER CHOICE"
   ]
  },
  {
   "cell_type": "code",
   "execution_count": 25,
   "id": "94468a6f",
   "metadata": {
    "id": "94468a6f"
   },
   "outputs": [],
   "source": [
    "data_folder_path = \"/home/criuser/Bureau/Informatique/Projet\""
   ]
  },
  {
   "cell_type": "markdown",
   "id": "56863d25",
   "metadata": {},
   "source": [
    "# ANSWER"
   ]
  },
  {
   "cell_type": "markdown",
   "id": "fb59bc1e",
   "metadata": {},
   "source": [
    "## Preliminary steps"
   ]
  },
  {
   "cell_type": "code",
   "execution_count": 26,
   "id": "166533a5",
   "metadata": {},
   "outputs": [
    {
     "data": {
      "text/html": [
       "<div>\n",
       "<style scoped>\n",
       "    .dataframe tbody tr th:only-of-type {\n",
       "        vertical-align: middle;\n",
       "    }\n",
       "\n",
       "    .dataframe tbody tr th {\n",
       "        vertical-align: top;\n",
       "    }\n",
       "\n",
       "    .dataframe thead th {\n",
       "        text-align: right;\n",
       "    }\n",
       "</style>\n",
       "<table border=\"1\" class=\"dataframe\">\n",
       "  <thead>\n",
       "    <tr style=\"text-align: right;\">\n",
       "      <th></th>\n",
       "      <th>plant_name</th>\n",
       "      <th>cell_fname</th>\n",
       "      <th>leaf_id</th>\n",
       "      <th>leaf_orientation</th>\n",
       "      <th>group</th>\n",
       "    </tr>\n",
       "  </thead>\n",
       "  <tbody>\n",
       "    <tr>\n",
       "      <th>0</th>\n",
       "      <td>Ceratostigma_minus</td>\n",
       "      <td>3-07-400x-1-01</td>\n",
       "      <td>3.70</td>\n",
       "      <td>abaxial</td>\n",
       "      <td>1</td>\n",
       "    </tr>\n",
       "    <tr>\n",
       "      <th>1</th>\n",
       "      <td>Ceratostigma_minus</td>\n",
       "      <td>3-07-400x-1-02</td>\n",
       "      <td>3.70</td>\n",
       "      <td>abaxial</td>\n",
       "      <td>1</td>\n",
       "    </tr>\n",
       "    <tr>\n",
       "      <th>2</th>\n",
       "      <td>Ceratostigma_minus</td>\n",
       "      <td>3-07-400x-1-03</td>\n",
       "      <td>3.70</td>\n",
       "      <td>abaxial</td>\n",
       "      <td>1</td>\n",
       "    </tr>\n",
       "    <tr>\n",
       "      <th>3</th>\n",
       "      <td>Ceratostigma_minus</td>\n",
       "      <td>3-07-400x-1-04</td>\n",
       "      <td>3.70</td>\n",
       "      <td>abaxial</td>\n",
       "      <td>1</td>\n",
       "    </tr>\n",
       "    <tr>\n",
       "      <th>4</th>\n",
       "      <td>Ceratostigma_minus</td>\n",
       "      <td>3-07-400x-2-01</td>\n",
       "      <td>3.70</td>\n",
       "      <td>adaxial</td>\n",
       "      <td>1</td>\n",
       "    </tr>\n",
       "    <tr>\n",
       "      <th>...</th>\n",
       "      <td>...</td>\n",
       "      <td>...</td>\n",
       "      <td>...</td>\n",
       "      <td>...</td>\n",
       "      <td>...</td>\n",
       "    </tr>\n",
       "    <tr>\n",
       "      <th>84</th>\n",
       "      <td>Hemerocallis_fulva</td>\n",
       "      <td>7-24-400x-1-05</td>\n",
       "      <td>7.24</td>\n",
       "      <td>abaxial</td>\n",
       "      <td>5</td>\n",
       "    </tr>\n",
       "    <tr>\n",
       "      <th>85</th>\n",
       "      <td>Jasminum fruticans</td>\n",
       "      <td>8-06-700x-2-01</td>\n",
       "      <td>8.60</td>\n",
       "      <td>NaN</td>\n",
       "      <td>3</td>\n",
       "    </tr>\n",
       "    <tr>\n",
       "      <th>86</th>\n",
       "      <td>Jasminum fruticans</td>\n",
       "      <td>8-06-700x-2-02</td>\n",
       "      <td>8.60</td>\n",
       "      <td>NaN</td>\n",
       "      <td>3</td>\n",
       "    </tr>\n",
       "    <tr>\n",
       "      <th>87</th>\n",
       "      <td>Jasminum fruticans</td>\n",
       "      <td>8-06-700x-2-03</td>\n",
       "      <td>8.60</td>\n",
       "      <td>NaN</td>\n",
       "      <td>3</td>\n",
       "    </tr>\n",
       "    <tr>\n",
       "      <th>88</th>\n",
       "      <td>Jasminum fruticans</td>\n",
       "      <td>8-06-700x-2-04</td>\n",
       "      <td>8.60</td>\n",
       "      <td>NaN</td>\n",
       "      <td>3</td>\n",
       "    </tr>\n",
       "  </tbody>\n",
       "</table>\n",
       "<p>89 rows × 5 columns</p>\n",
       "</div>"
      ],
      "text/plain": [
       "            plant_name      cell_fname  leaf_id leaf_orientation  group\n",
       "0   Ceratostigma_minus  3-07-400x-1-01     3.70          abaxial      1\n",
       "1   Ceratostigma_minus  3-07-400x-1-02     3.70          abaxial      1\n",
       "2   Ceratostigma_minus  3-07-400x-1-03     3.70          abaxial      1\n",
       "3   Ceratostigma_minus  3-07-400x-1-04     3.70          abaxial      1\n",
       "4   Ceratostigma_minus  3-07-400x-2-01     3.70          adaxial      1\n",
       "..                 ...             ...      ...              ...    ...\n",
       "84  Hemerocallis_fulva  7-24-400x-1-05     7.24          abaxial      5\n",
       "85  Jasminum fruticans  8-06-700x-2-01     8.60              NaN      3\n",
       "86  Jasminum fruticans  8-06-700x-2-02     8.60              NaN      3\n",
       "87  Jasminum fruticans  8-06-700x-2-03     8.60              NaN      3\n",
       "88  Jasminum fruticans  8-06-700x-2-04     8.60              NaN      3\n",
       "\n",
       "[89 rows x 5 columns]"
      ]
     },
     "execution_count": 26,
     "metadata": {},
     "output_type": "execute_result"
    }
   ],
   "source": [
    "# We import our csv containing the cell database cleaned ()\n",
    "\n",
    "path = data_folder_path  + '/data/cleaned/global_database_cleaned.csv'                                                                                         \n",
    "df = pd.read_csv(path)                                                                     \n",
    "df"
   ]
  },
  {
   "cell_type": "markdown",
   "id": "00723302",
   "metadata": {},
   "source": [
    "## Counting and centroids determination"
   ]
  },
  {
   "cell_type": "markdown",
   "id": "06ec0561",
   "metadata": {},
   "source": [
    "We create a function able to count the number of cell of an image from this image (and some parameters) and return this number and the label corresponding to each cell. It is enought flexible to be use on new images just by quickly changing the parameters values."
   ]
  },
  {
   "cell_type": "code",
   "execution_count": 27,
   "id": "7f91fb53",
   "metadata": {},
   "outputs": [],
   "source": [
    "def cell_count_and_label_from_img(\n",
    "    img_original, \n",
    "    blurring_intensity, \n",
    "    local_threshold_block_size, \n",
    "    closing_radius, \n",
    "    opening_radius, \n",
    "    min_size_hole,\n",
    "    min_size_object,\n",
    "    erosion_radius\n",
    "    ):\n",
    "\n",
    "# Preprocessing \n",
    "    img_grey = img_greying(img_original)\n",
    "    img_blurred = img_blurring(img_grey, blurring_intensity)\n",
    "\n",
    "# Processing \n",
    "    mask_cell = cell_maskification(img_blurred, local_threshold_block_size)\n",
    "    mask_smooth = smooth(mask_cell, closing_radius, opening_radius)\n",
    "    mask_no_small_hole = small_hole_removing(mask_smooth, min_size_hole)\n",
    "    mask_no_small_object = small_object_removing(mask_no_small_hole, min_size_object)\n",
    "    mask_erroded = cell_erosion(mask_no_small_object, erosion_radius)\n",
    "    mask_no_small_object_2 = small_object_removing(mask_erroded, min_size_object)\n",
    "\n",
    "# Postprocessing \n",
    "    mask_cell_label = cell_labelisation(mask_no_small_object_2)\n",
    "    cell_number = cell_count(mask_cell_label)\n",
    "    return cell_number, mask_cell_label"
   ]
  },
  {
   "cell_type": "markdown",
   "id": "d0fc7029",
   "metadata": {
    "id": "d0fc7029"
   },
   "source": [
    "## Group 1 images"
   ]
  },
  {
   "cell_type": "code",
   "execution_count": 35,
   "id": "3c28be58",
   "metadata": {},
   "outputs": [],
   "source": [
    "# Group 1 images parameters \n",
    "\n",
    "blurring_intensity = 10\n",
    "local_threshold_block_size = 15 \n",
    "closing_radius = 2\n",
    "opening_radius = 1\n",
    "min_size_object = 2000\n",
    "min_size_hole = 2000\n",
    "erosion_radius = 3"
   ]
  },
  {
   "cell_type": "code",
   "execution_count": 36,
   "id": "48860613",
   "metadata": {
    "id": "48860613",
    "outputId": "d7bbe1e1-be5c-49f3-ccef-8f7eaf9d004b"
   },
   "outputs": [],
   "source": [
    "# Extraction of the group 1 images \n",
    "\n",
    "df_group_1 = df.loc[df['group'] == 1]\n",
    "df_how_many_cells_1 = pd.DataFrame(columns = ['cell_fname','nb_cells', 'centroids_fname'])\n",
    "\n",
    "for cell_fname in df_group_1['cell_fname'] :\n",
    "    img_name = cell_fname +'.tif'\n",
    "    img_path = data_folder_path + \"/data/cleaned/cell_database_cleaned/\" + img_name \n",
    "    img_original = imread(img_path)\n",
    "    \n",
    "\n",
    "# Number of cells for the group 1 images\n",
    "\n",
    "    cell_number = cell_count_and_label_from_img(\n",
    "                        img_original, \n",
    "                        blurring_intensity, \n",
    "                        local_threshold_block_size, \n",
    "                        closing_radius, \n",
    "                        opening_radius, \n",
    "                        min_size_hole,\n",
    "                        min_size_object,\n",
    "                        erosion_radius\n",
    "                        )[0]      # [0] because we want the cell number with is the first variable returned          \n",
    "\n",
    "# Centroid determination\n",
    "\n",
    "    mask_cell_label = cell_count_and_label_from_img(\n",
    "                        img_original, \n",
    "                        blurring_intensity, \n",
    "                        local_threshold_block_size, \n",
    "                        closing_radius, \n",
    "                        opening_radius, \n",
    "                        min_size_hole,\n",
    "                        min_size_object,\n",
    "                        erosion_radius\n",
    "                        )[1]   # [1] because we want the label corresponding to each cell with is the 2nd variable returned \n",
    "    df_cells_centroid = dataframe_cells_centroid_creation(mask_cell_label)\n",
    "\n",
    "# cells_centroid-image_name.csv creation and saving\n",
    "\n",
    "    df_cells_centroid.to_csv(data_folder_path + \"/results/cells_centroid_csv\" + \"/\" + \"cells_centroid_\" + cell_fname + \".csv\")\n",
    "    \n",
    "# how_many_cells dataframe filing for the group 1 images\n",
    "\n",
    "    df_intermediate = pd.DataFrame({\"cell_fname\":[cell_fname], \"nb_cells\":[cell_number], \"centroids_fname\":[\"cells_centroid_\" + cell_fname + \".csv\"]})\n",
    "    df_how_many_cells_1 = pd.concat([df_how_many_cells_1, df_intermediate], ignore_index=True)"
   ]
  },
  {
   "cell_type": "markdown",
   "id": "acfd9511",
   "metadata": {
    "id": "acfd9511"
   },
   "source": [
    "## Group 2 images"
   ]
  },
  {
   "cell_type": "code",
   "execution_count": 37,
   "id": "27402525",
   "metadata": {},
   "outputs": [],
   "source": [
    "# Group 2 images parameters \n",
    "\n",
    "blurring_intensity = 10\n",
    "local_threshold_block_size = 35 \n",
    "closing_radius = 2\n",
    "opening_radius = 1\n",
    "min_size_object = 2000\n",
    "min_size_hole = 2000\n",
    "erosion_radius = 3"
   ]
  },
  {
   "cell_type": "code",
   "execution_count": 38,
   "id": "876c681b",
   "metadata": {
    "id": "876c681b"
   },
   "outputs": [],
   "source": [
    "# Extraction of the group 2 images \n",
    "\n",
    "df_group_2 = df.loc[df['group'] == 2]\n",
    "df_how_many_cells_2 = pd.DataFrame(columns = ['cell_fname','nb_cells', 'centroids_fname'])\n",
    "\n",
    "for cell_fname in df_group_2['cell_fname'] :\n",
    "    img_name = cell_fname +'.tif'\n",
    "    img_path = data_folder_path + \"/data/cleaned/cell_database_cleaned/\" + img_name \n",
    "    img_original = imread(img_path)\n",
    "    \n",
    "\n",
    "# Number of cells for the group 2 images\n",
    "\n",
    "    cell_number = cell_count_and_label_from_img(\n",
    "                        img_original, \n",
    "                        blurring_intensity, \n",
    "                        local_threshold_block_size, \n",
    "                        closing_radius, \n",
    "                        opening_radius, \n",
    "                        min_size_hole,\n",
    "                        min_size_object,\n",
    "                        erosion_radius\n",
    "                        )[0]      # [0] because we want the cell number with is the first variable returned          \n",
    "\n",
    "# Centroid determination\n",
    "\n",
    "    mask_cell_label = cell_count_and_label_from_img(\n",
    "                        img_original, \n",
    "                        blurring_intensity, \n",
    "                        local_threshold_block_size, \n",
    "                        closing_radius, \n",
    "                        opening_radius, \n",
    "                        min_size_hole,\n",
    "                        min_size_object,\n",
    "                        erosion_radius\n",
    "                        )[1]   # [1] because we want the label corresponding to each cell with is the 2nd variable returned \n",
    "    df_cells_centroid = dataframe_cells_centroid_creation(mask_cell_label)\n",
    "\n",
    "# cells_centroid-image_name.csv creation and saving\n",
    "\n",
    "    df_cells_centroid.to_csv(data_folder_path + \"/results/cells_centroid_csv\" + \"/\" + \"cells_centroid_\" + cell_fname + \".csv\")\n",
    "    \n",
    "# how_many_cells dataframe filing for the group 1 images\n",
    "\n",
    "    df_intermediate = pd.DataFrame({\"cell_fname\":[cell_fname], \"nb_cells\":[cell_number], \"centroids_fname\":[\"cells_centroid_\" + cell_fname + \".csv\"]})\n",
    "    df_how_many_cells_2 = pd.concat([df_how_many_cells_2, df_intermediate], ignore_index=True)"
   ]
  },
  {
   "cell_type": "markdown",
   "id": "d32fcd93",
   "metadata": {
    "id": "d32fcd93"
   },
   "source": [
    "## Group 3 images "
   ]
  },
  {
   "cell_type": "code",
   "execution_count": 39,
   "id": "f96e6ad7",
   "metadata": {
    "id": "f96e6ad7"
   },
   "outputs": [],
   "source": [
    "# Group 3 images parameters \n",
    "\n",
    "blurring_intensity = 10\n",
    "local_threshold_block_size = 15 \n",
    "closing_radius = 2\n",
    "opening_radius = 1\n",
    "min_size_object = 2000\n",
    "min_size_hole = 2000\n",
    "erosion_radius = 3"
   ]
  },
  {
   "cell_type": "code",
   "execution_count": 40,
   "id": "c1f16aa0",
   "metadata": {},
   "outputs": [],
   "source": [
    "# Extraction of the group 3 images \n",
    "\n",
    "df_group_3= df.loc[df['group'] == 3]\n",
    "df_how_many_cells_3 = pd.DataFrame(columns = ['cell_fname','nb_cells', 'centroids_fname'])\n",
    "\n",
    "for cell_fname in df_group_3['cell_fname'] :\n",
    "    img_name = cell_fname +'.tif'\n",
    "    img_path = data_folder_path + \"/data/cleaned/cell_database_cleaned/\" + img_name \n",
    "    img_original = imread(img_path)\n",
    "    \n",
    "\n",
    "# Number of cells for the group 3 images\n",
    "\n",
    "    cell_number = cell_count_and_label_from_img(\n",
    "                        img_original, \n",
    "                        blurring_intensity, \n",
    "                        local_threshold_block_size, \n",
    "                        closing_radius, \n",
    "                        opening_radius, \n",
    "                        min_size_hole,\n",
    "                        min_size_object,\n",
    "                        erosion_radius\n",
    "                        )[0]      # [0] because we want the cell number with is the first variable returned          \n",
    "\n",
    "# Centroid determination\n",
    "\n",
    "    mask_cell_label = cell_count_and_label_from_img(\n",
    "                        img_original, \n",
    "                        blurring_intensity, \n",
    "                        local_threshold_block_size, \n",
    "                        closing_radius, \n",
    "                        opening_radius, \n",
    "                        min_size_hole,\n",
    "                        min_size_object,\n",
    "                        erosion_radius\n",
    "                        )[1]   # [1] because we want the label corresponding to each cell with is the 2nd variable returned \n",
    "    df_cells_centroid = dataframe_cells_centroid_creation(mask_cell_label)\n",
    "\n",
    "# cells_centroid-image_name.csv creation and saving\n",
    "\n",
    "    df_cells_centroid.to_csv(data_folder_path + \"/results/cells_centroid_csv\" + \"/\" + \"cells_centroid_\" + cell_fname + \".csv\")\n",
    "    \n",
    "# how_many_cells dataframe filing for the group 1 images\n",
    "\n",
    "    df_intermediate = pd.DataFrame({\"cell_fname\":[cell_fname], \"nb_cells\":[cell_number], \"centroids_fname\":[\"cells_centroid_\" + cell_fname + \".csv\"]})\n",
    "    df_how_many_cells_3 = pd.concat([df_how_many_cells_3, df_intermediate], ignore_index=True)"
   ]
  },
  {
   "cell_type": "markdown",
   "id": "8c1f1493",
   "metadata": {
    "id": "8c1f1493"
   },
   "source": [
    "## Group 4 images"
   ]
  },
  {
   "cell_type": "code",
   "execution_count": 42,
   "id": "d08650a7",
   "metadata": {
    "id": "d08650a7"
   },
   "outputs": [],
   "source": [
    "# Group 4 images parameters \n",
    "\n",
    "blurring_intensity = 10\n",
    "local_threshold_block_size = 35 \n",
    "closing_radius = 2\n",
    "opening_radius = 1\n",
    "min_size_object = 2000\n",
    "min_size_hole = 3000\n",
    "erosion_radius = 3"
   ]
  },
  {
   "cell_type": "code",
   "execution_count": 43,
   "id": "c8ce769b",
   "metadata": {},
   "outputs": [],
   "source": [
    "# Extraction of the group 4 images \n",
    "\n",
    "df_group_4 = df.loc[df['group'] == 4]\n",
    "df_how_many_cells_4 = pd.DataFrame(columns = ['cell_fname','nb_cells', 'centroids_fname'])\n",
    "\n",
    "for cell_fname in df_group_4['cell_fname'] :\n",
    "    img_name = cell_fname +'.tif'\n",
    "    img_path = data_folder_path + \"/data/cleaned/cell_database_cleaned/\" + img_name \n",
    "    img_original = imread(img_path)\n",
    "    \n",
    "\n",
    "# Number of cells for the group 4 images\n",
    "\n",
    "    cell_number = cell_count_and_label_from_img(\n",
    "                        img_original, \n",
    "                        blurring_intensity, \n",
    "                        local_threshold_block_size, \n",
    "                        closing_radius, \n",
    "                        opening_radius, \n",
    "                        min_size_hole,\n",
    "                        min_size_object,\n",
    "                        erosion_radius\n",
    "                        )[0]      # [0] because we want the cell number with is the first variable returned          \n",
    "\n",
    "# Centroid determination\n",
    "\n",
    "    mask_cell_label = cell_count_and_label_from_img(\n",
    "                        img_original, \n",
    "                        blurring_intensity, \n",
    "                        local_threshold_block_size, \n",
    "                        closing_radius, \n",
    "                        opening_radius, \n",
    "                        min_size_hole,\n",
    "                        min_size_object,\n",
    "                        erosion_radius\n",
    "                        )[1]   # [1] because we want the label corresponding to each cell with is the 2nd variable returned \n",
    "    df_cells_centroid = dataframe_cells_centroid_creation(mask_cell_label)\n",
    "\n",
    "# cells_centroid-image_name.csv creation and saving\n",
    "\n",
    "    df_cells_centroid.to_csv(data_folder_path + \"/results/cells_centroid_csv\" + \"/\" + \"cells_centroid_\" + cell_fname + \".csv\")\n",
    "    \n",
    "# how_many_cells dataframe filing for the group 1 images\n",
    "\n",
    "    df_intermediate = pd.DataFrame({\"cell_fname\":[cell_fname], \"nb_cells\":[cell_number], \"centroids_fname\":[\"cells_centroid_\" + cell_fname + \".csv\"]})\n",
    "    df_how_many_cells_4 = pd.concat([df_how_many_cells_4, df_intermediate], ignore_index=True)"
   ]
  },
  {
   "cell_type": "markdown",
   "id": "6e54213f",
   "metadata": {
    "id": "6e54213f"
   },
   "source": [
    "## Group 5 images"
   ]
  },
  {
   "cell_type": "code",
   "execution_count": 45,
   "id": "f1c8d1c4",
   "metadata": {
    "id": "f1c8d1c4"
   },
   "outputs": [],
   "source": [
    "# Group 5 images parameters \n",
    "\n",
    "blurring_intensity = 10\n",
    "local_threshold_block_size = 15 \n",
    "closing_radius = 2\n",
    "opening_radius = 1\n",
    "min_size_object = 2000\n",
    "min_size_hole = 2000\n",
    "erosion_radius = 3"
   ]
  },
  {
   "cell_type": "code",
   "execution_count": 46,
   "id": "0bb3d6d4",
   "metadata": {},
   "outputs": [],
   "source": [
    "# Extraction of the group 5 images \n",
    "\n",
    "df_group_5 = df.loc[df['group'] == 5]\n",
    "df_how_many_cells_5 = pd.DataFrame(columns = ['cell_fname','nb_cells', 'centroids_fname'])\n",
    "\n",
    "for cell_fname in df_group_5['cell_fname'] :\n",
    "    img_name = cell_fname +'.tif'\n",
    "    img_path = data_folder_path + \"/data/cleaned/cell_database_cleaned/\" + img_name \n",
    "    img_original = imread(img_path)\n",
    "    \n",
    "\n",
    "# Number of cells for the group 5 images\n",
    "\n",
    "    cell_number = cell_count_and_label_from_img(\n",
    "                        img_original, \n",
    "                        blurring_intensity, \n",
    "                        local_threshold_block_size, \n",
    "                        closing_radius, \n",
    "                        opening_radius, \n",
    "                        min_size_hole,\n",
    "                        min_size_object,\n",
    "                        erosion_radius\n",
    "                        )[0]      # [0] because we want the cell number with is the first variable returned          \n",
    "\n",
    "# Centroid determination\n",
    "\n",
    "    mask_cell_label = cell_count_and_label_from_img(\n",
    "                        img_original, \n",
    "                        blurring_intensity, \n",
    "                        local_threshold_block_size, \n",
    "                        closing_radius, \n",
    "                        opening_radius, \n",
    "                        min_size_hole,\n",
    "                        min_size_object,\n",
    "                        erosion_radius\n",
    "                        )[1]   # [1] because we want the label corresponding to each cell with is the 2nd variable returned \n",
    "    df_cells_centroid = dataframe_cells_centroid_creation(mask_cell_label)\n",
    "\n",
    "# cells_centroid-image_name.csv creation and saving\n",
    "\n",
    "    df_cells_centroid.to_csv(data_folder_path + \"/results/cells_centroid_csv\" + \"/\" + \"cells_centroid_\" + cell_fname + \".csv\")\n",
    "    \n",
    "# how_many_cells dataframe filing for the group 1 images\n",
    "\n",
    "    df_intermediate = pd.DataFrame({\"cell_fname\":[cell_fname], \"nb_cells\":[cell_number], \"centroids_fname\":[\"cells_centroid_\" + cell_fname + \".csv\"]})\n",
    "    df_how_many_cells_5 = pd.concat([df_how_many_cells_5, df_intermediate], ignore_index=True)"
   ]
  },
  {
   "cell_type": "markdown",
   "id": "df8ce065",
   "metadata": {
    "id": "df8ce065"
   },
   "source": [
    "## How_many_cells.csv final creation and saving"
   ]
  },
  {
   "cell_type": "code",
   "execution_count": 48,
   "id": "a202b105",
   "metadata": {},
   "outputs": [],
   "source": [
    "df_how_many_cells = pd.concat([df_how_many_cells_1, \n",
    "                               df_how_many_cells_2, \n",
    "                               df_how_many_cells_3, \n",
    "                               df_how_many_cells_4,\n",
    "                               df_how_many_cells_5], ignore_index=True)\n",
    "\n",
    "df_how_many_cells.to_csv(data_folder_path + \"/results/\" + \"how_many_cells.csv\")"
   ]
  }
 ],
 "metadata": {
  "colab": {
   "provenance": []
  },
  "kernelspec": {
   "display_name": "Python 3 (ipykernel)",
   "language": "python",
   "name": "python3"
  },
  "language_info": {
   "codemirror_mode": {
    "name": "ipython",
    "version": 3
   },
   "file_extension": ".py",
   "mimetype": "text/x-python",
   "name": "python",
   "nbconvert_exporter": "python",
   "pygments_lexer": "ipython3",
   "version": "3.9.13"
  }
 },
 "nbformat": 4,
 "nbformat_minor": 5
}
