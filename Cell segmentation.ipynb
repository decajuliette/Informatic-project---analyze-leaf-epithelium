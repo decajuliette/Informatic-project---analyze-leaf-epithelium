{
 "cells": [
  {
   "cell_type": "markdown",
   "id": "a8756ef6",
   "metadata": {},
   "source": [
    "# CELL SEGMENTATION NOTEBOOK"
   ]
  },
  {
   "cell_type": "markdown",
   "id": "1578aafd",
   "metadata": {},
   "source": [
    "In this notebook we present how we have segmented the cells of each images from the refined data i.e. how we have created the mask with each cell labeled for each image."
   ]
  },
  {
   "cell_type": "code",
   "execution_count": null,
   "id": "b16f1d0f",
   "metadata": {},
   "outputs": [],
   "source": [
    "# We import the useful functions from the script save in the src folder\n",
    "\n",
    "from src.utils import img_greying\n",
    "from src.utils import img_blurring\n",
    "from src.utils import cell_maskification\n",
    "from src.utils import smooth\n",
    "from src.utils import small_hole_removing\n",
    "from src.utils import small_object_removing\n",
    "from src.utils import cell_erosion\n",
    "from src.utils import cell_labelisation\n",
    "from src.utils import cell_count\n",
    "\n",
    "# We import some existent libraries \n",
    "\n",
    "import pandas as pd\n",
    "from tifffile import imread\n",
    "import napari\n",
    "from skimage import restoration\n",
    "import skimage.filters as filters\n",
    "from skimage.morphology import disk\n",
    "from skimage import morphology\n",
    "from skimage.feature import peak_local_max\n",
    "from skimage.morphology import convex_hull_image\n",
    "from skimage.segmentation import watershed\n",
    "from scipy import ndimage as ndi\n",
    "import numpy as np\n",
    "import pandas as pd\n",
    "from skimage import measure\n",
    "import matplotlib.pyplot as plt\n",
    "import tifffile\n",
    "from scipy import ndimage as ndi\n",
    "import skimage\n",
    "from skimage.color import rgb2gray\n",
    "from typing import List\n",
    "from magicgui import magicgui\n",
    "from napari.types import ImageData, LabelsData, LayerDataTuple\n",
    "import numpy as np\n",
    "import glob\n",
    "from skimage import feature"
   ]
  },
  {
   "cell_type": "markdown",
   "id": "cd2e604f",
   "metadata": {},
   "source": [
    "# ALL USER CHOICE"
   ]
  },
  {
   "cell_type": "code",
   "execution_count": 2,
   "id": "c71bd463",
   "metadata": {},
   "outputs": [],
   "source": [
    "data_folder_path = \"/home/criuser/Bureau/Informatique/Projet\""
   ]
  },
  {
   "cell_type": "markdown",
   "id": "38e8cce4",
   "metadata": {},
   "source": [
    "# SEGMENTATION"
   ]
  },
  {
   "cell_type": "markdown",
   "id": "26e63f53",
   "metadata": {},
   "source": [
    "## Preliminary steps"
   ]
  },
  {
   "cell_type": "code",
   "execution_count": 3,
   "id": "07c750fc",
   "metadata": {},
   "outputs": [
    {
     "data": {
      "text/html": [
       "<div>\n",
       "<style scoped>\n",
       "    .dataframe tbody tr th:only-of-type {\n",
       "        vertical-align: middle;\n",
       "    }\n",
       "\n",
       "    .dataframe tbody tr th {\n",
       "        vertical-align: top;\n",
       "    }\n",
       "\n",
       "    .dataframe thead th {\n",
       "        text-align: right;\n",
       "    }\n",
       "</style>\n",
       "<table border=\"1\" class=\"dataframe\">\n",
       "  <thead>\n",
       "    <tr style=\"text-align: right;\">\n",
       "      <th></th>\n",
       "      <th>plant_name</th>\n",
       "      <th>cell_fname</th>\n",
       "      <th>leaf_id</th>\n",
       "      <th>leaf_orientation</th>\n",
       "      <th>group</th>\n",
       "    </tr>\n",
       "  </thead>\n",
       "  <tbody>\n",
       "    <tr>\n",
       "      <th>0</th>\n",
       "      <td>Ceratostigma_minus</td>\n",
       "      <td>3-07-400x-1-01</td>\n",
       "      <td>3.70</td>\n",
       "      <td>abaxial</td>\n",
       "      <td>1</td>\n",
       "    </tr>\n",
       "    <tr>\n",
       "      <th>1</th>\n",
       "      <td>Ceratostigma_minus</td>\n",
       "      <td>3-07-400x-1-02</td>\n",
       "      <td>3.70</td>\n",
       "      <td>abaxial</td>\n",
       "      <td>1</td>\n",
       "    </tr>\n",
       "    <tr>\n",
       "      <th>2</th>\n",
       "      <td>Ceratostigma_minus</td>\n",
       "      <td>3-07-400x-1-03</td>\n",
       "      <td>3.70</td>\n",
       "      <td>abaxial</td>\n",
       "      <td>1</td>\n",
       "    </tr>\n",
       "    <tr>\n",
       "      <th>3</th>\n",
       "      <td>Ceratostigma_minus</td>\n",
       "      <td>3-07-400x-1-04</td>\n",
       "      <td>3.70</td>\n",
       "      <td>abaxial</td>\n",
       "      <td>1</td>\n",
       "    </tr>\n",
       "    <tr>\n",
       "      <th>4</th>\n",
       "      <td>Ceratostigma_minus</td>\n",
       "      <td>3-07-400x-2-01</td>\n",
       "      <td>3.70</td>\n",
       "      <td>adaxial</td>\n",
       "      <td>1</td>\n",
       "    </tr>\n",
       "    <tr>\n",
       "      <th>...</th>\n",
       "      <td>...</td>\n",
       "      <td>...</td>\n",
       "      <td>...</td>\n",
       "      <td>...</td>\n",
       "      <td>...</td>\n",
       "    </tr>\n",
       "    <tr>\n",
       "      <th>84</th>\n",
       "      <td>Hemerocallis_fulva</td>\n",
       "      <td>7-24-400x-1-05</td>\n",
       "      <td>7.24</td>\n",
       "      <td>abaxial</td>\n",
       "      <td>5</td>\n",
       "    </tr>\n",
       "    <tr>\n",
       "      <th>85</th>\n",
       "      <td>Jasminum fruticans</td>\n",
       "      <td>8-06-700x-2-01</td>\n",
       "      <td>8.60</td>\n",
       "      <td>NaN</td>\n",
       "      <td>3</td>\n",
       "    </tr>\n",
       "    <tr>\n",
       "      <th>86</th>\n",
       "      <td>Jasminum fruticans</td>\n",
       "      <td>8-06-700x-2-02</td>\n",
       "      <td>8.60</td>\n",
       "      <td>NaN</td>\n",
       "      <td>3</td>\n",
       "    </tr>\n",
       "    <tr>\n",
       "      <th>87</th>\n",
       "      <td>Jasminum fruticans</td>\n",
       "      <td>8-06-700x-2-03</td>\n",
       "      <td>8.60</td>\n",
       "      <td>NaN</td>\n",
       "      <td>3</td>\n",
       "    </tr>\n",
       "    <tr>\n",
       "      <th>88</th>\n",
       "      <td>Jasminum fruticans</td>\n",
       "      <td>8-06-700x-2-04</td>\n",
       "      <td>8.60</td>\n",
       "      <td>NaN</td>\n",
       "      <td>3</td>\n",
       "    </tr>\n",
       "  </tbody>\n",
       "</table>\n",
       "<p>89 rows × 5 columns</p>\n",
       "</div>"
      ],
      "text/plain": [
       "            plant_name      cell_fname  leaf_id leaf_orientation  group\n",
       "0   Ceratostigma_minus  3-07-400x-1-01     3.70          abaxial      1\n",
       "1   Ceratostigma_minus  3-07-400x-1-02     3.70          abaxial      1\n",
       "2   Ceratostigma_minus  3-07-400x-1-03     3.70          abaxial      1\n",
       "3   Ceratostigma_minus  3-07-400x-1-04     3.70          abaxial      1\n",
       "4   Ceratostigma_minus  3-07-400x-2-01     3.70          adaxial      1\n",
       "..                 ...             ...      ...              ...    ...\n",
       "84  Hemerocallis_fulva  7-24-400x-1-05     7.24          abaxial      5\n",
       "85  Jasminum fruticans  8-06-700x-2-01     8.60              NaN      3\n",
       "86  Jasminum fruticans  8-06-700x-2-02     8.60              NaN      3\n",
       "87  Jasminum fruticans  8-06-700x-2-03     8.60              NaN      3\n",
       "88  Jasminum fruticans  8-06-700x-2-04     8.60              NaN      3\n",
       "\n",
       "[89 rows x 5 columns]"
      ]
     },
     "execution_count": 3,
     "metadata": {},
     "output_type": "execute_result"
    }
   ],
   "source": [
    "# We import our csv containing the cell database cleaned ()\n",
    "\n",
    "path = data_folder_path  + '/data/cleaned/global_database_cleaned.csv'                                                                                         \n",
    "df = pd.read_csv(path)                                                                     \n",
    "df"
   ]
  },
  {
   "cell_type": "markdown",
   "id": "c0bdc4c3",
   "metadata": {},
   "source": [
    "## Group 1 images"
   ]
  },
  {
   "cell_type": "code",
   "execution_count": 41,
   "id": "46989bc8",
   "metadata": {},
   "outputs": [],
   "source": [
    "# Group 1 images parameters \n",
    "\n",
    "blurring_intensity = 10\n",
    "local_threshold_block_size = 15 \n",
    "closing_radius = 2\n",
    "opening_radius = 1\n",
    "min_size_object = 2000\n",
    "min_size_hole = 2000\n",
    "erosion_radius = 3"
   ]
  },
  {
   "cell_type": "code",
   "execution_count": 42,
   "id": "a4ebcd7a",
   "metadata": {},
   "outputs": [],
   "source": [
    "# Extraction of the group 1 images \n",
    "\n",
    "df_group_1 = df.loc[df['group'] == 1]\n",
    "\n",
    "for cell_fname in df_group_1['cell_fname'] :\n",
    "    img_name = cell_fname +'.tif'\n",
    "    img_path = data_folder_path + \"/data/cleaned/cell_database_cleaned/\" + img_name \n",
    "    img_original = imread(img_path)\n",
    "    \n",
    "# Preprocessing \n",
    "    img_grey = img_greying(img_original)\n",
    "    img_blurred = img_blurring(img_grey, blurring_intensity)\n",
    "\n",
    "# Processing \n",
    "    mask_cell = cell_maskification(img_blurred, local_threshold_block_size)\n",
    "    mask_smooth = smooth(mask_cell, closing_radius, opening_radius)\n",
    "    mask_no_small_hole = small_hole_removing(mask_smooth, min_size_hole)\n",
    "    mask_no_small_object = small_object_removing(mask_no_small_hole, min_size_object)\n",
    "    mask_erroded = cell_erosion(mask_no_small_object, erosion_radius)\n",
    "\n",
    "# Postprocessing \n",
    "    mask_cell_label = cell_labelisation(mask_erroded)\n",
    "    #viewer.add_labels(mask_cell_label)\n",
    "    tifffile.imwrite(data_folder_path + \"/results/\" + img_name, mask_cell_label)"
   ]
  },
  {
   "cell_type": "markdown",
   "id": "df70f4d3",
   "metadata": {},
   "source": [
    "## Group 2 images"
   ]
  },
  {
   "cell_type": "code",
   "execution_count": 43,
   "id": "cce4c9a1",
   "metadata": {},
   "outputs": [],
   "source": [
    "# Group 2 images parameters \n",
    "\n",
    "blurring_intensity = 10\n",
    "local_threshold_block_size = 35 \n",
    "closing_radius = 2\n",
    "opening_radius = 1\n",
    "min_size_object = 2000\n",
    "min_size_hole = 2000\n",
    "erosion_radius = 3"
   ]
  },
  {
   "cell_type": "code",
   "execution_count": 44,
   "id": "9c7594d4",
   "metadata": {},
   "outputs": [],
   "source": [
    "# Extraction of the group 2 images \n",
    "\n",
    "df_group_2 = df.loc[df['group'] == 2]\n",
    "\n",
    "for cell_fname in df_group_2['cell_fname'] :\n",
    "    img_name = cell_fname +'.tif'\n",
    "    img_path = data_folder_path + \"/data/cleaned/cell_database_cleaned/\" + img_name \n",
    "    img_original = imread(img_path)\n",
    "    \n",
    "# Preprocessing \n",
    "    img_grey = img_greying(img_original)\n",
    "    img_blurred = img_blurring(img_grey, blurring_intensity)\n",
    "\n",
    "# Processing \n",
    "    mask_cell = cell_maskification(img_blurred, local_threshold_block_size)\n",
    "    mask_smooth = smooth(mask_cell, closing_radius, opening_radius)\n",
    "    mask_no_small_hole = small_hole_removing(mask_smooth, min_size_hole)\n",
    "    mask_no_small_object = small_object_removing(mask_no_small_hole, min_size_object)\n",
    "    mask_erroded = cell_erosion(mask_no_small_object, erosion_radius)\n",
    "\n",
    "# Postprocessing \n",
    "    mask_cell_label = cell_labelisation(mask_erroded)\n",
    "    #viewer.add_labels(mask_cell_label)\n",
    "    tifffile.imwrite(data_folder_path + \"/results/\" + img_name, mask_cell_label)"
   ]
  },
  {
   "cell_type": "markdown",
   "id": "4ee6d938",
   "metadata": {},
   "source": [
    "## Group 3 images"
   ]
  },
  {
   "cell_type": "code",
   "execution_count": 45,
   "id": "1fba1ff3",
   "metadata": {},
   "outputs": [],
   "source": [
    "# Group 3 images parameters \n",
    "\n",
    "blurring_intensity = 10\n",
    "local_threshold_block_size = 15 \n",
    "closing_radius = 2\n",
    "opening_radius = 1\n",
    "min_size_object = 2000\n",
    "min_size_hole = 2000\n",
    "erosion_radius = 3"
   ]
  },
  {
   "cell_type": "code",
   "execution_count": 46,
   "id": "81dd520d",
   "metadata": {},
   "outputs": [],
   "source": [
    "# Extraction of the group 3 images \n",
    "\n",
    "df_group_3 = df.loc[df['group'] == 3]\n",
    "\n",
    "for cell_fname in df_group_3['cell_fname'] :\n",
    "    img_name = cell_fname +'.tif'\n",
    "    img_path = data_folder_path + \"/data/cleaned/cell_database_cleaned/\" + img_name \n",
    "    img_original = imread(img_path)\n",
    "    \n",
    "# Preprocessing \n",
    "    img_grey = img_greying(img_original)\n",
    "    img_blurred = img_blurring(img_grey, blurring_intensity)\n",
    "\n",
    "# Processing \n",
    "    mask_cell = cell_maskification(img_blurred, local_threshold_block_size)\n",
    "    mask_smooth = smooth(mask_cell, closing_radius, opening_radius)\n",
    "    mask_no_small_hole = small_hole_removing(mask_smooth, min_size_hole)\n",
    "    mask_no_small_object = small_object_removing(mask_no_small_hole, min_size_object)\n",
    "    mask_erroded = cell_erosion(mask_no_small_object, erosion_radius)\n",
    "\n",
    "# Postprocessing \n",
    "    mask_cell_label = cell_labelisation(mask_erroded)\n",
    "    #viewer.add_labels(mask_cell_label)\n",
    "    tifffile.imwrite(data_folder_path + \"/results/\" + img_name, mask_cell_label)"
   ]
  },
  {
   "cell_type": "markdown",
   "id": "098f3bf7",
   "metadata": {},
   "source": [
    "## Group 4 images"
   ]
  },
  {
   "cell_type": "code",
   "execution_count": 47,
   "id": "4019fa78",
   "metadata": {},
   "outputs": [],
   "source": [
    "# Group 4 images parameters \n",
    "\n",
    "blurring_intensity = 10\n",
    "local_threshold_block_size = 35 \n",
    "closing_radius = 2\n",
    "opening_radius = 1\n",
    "min_size_object = 2000\n",
    "min_size_hole = 3000\n",
    "erosion_radius = 3"
   ]
  },
  {
   "cell_type": "code",
   "execution_count": 48,
   "id": "3396f9df",
   "metadata": {},
   "outputs": [],
   "source": [
    "# Extraction of the group 4 images \n",
    "\n",
    "df_group_4 = df.loc[df['group'] == 4]\n",
    "\n",
    "for cell_fname in df_group_4['cell_fname'] :\n",
    "    img_name = cell_fname +'.tif'\n",
    "    img_path = data_folder_path + \"/data/cleaned/cell_database_cleaned/\" + img_name \n",
    "    img_original = imread(img_path)\n",
    "    \n",
    "# Preprocessing \n",
    "    img_grey = img_greying(img_original)\n",
    "    img_blurred = img_blurring(img_grey, blurring_intensity)\n",
    "\n",
    "# Processing \n",
    "    mask_cell = cell_maskification(img_blurred, local_threshold_block_size)\n",
    "    mask_smooth = smooth(mask_cell, closing_radius, opening_radius)\n",
    "    mask_no_small_hole = small_hole_removing(mask_smooth, min_size_hole)\n",
    "    mask_no_small_object = small_object_removing(mask_no_small_hole, min_size_object)\n",
    "    mask_erroded = cell_erosion(mask_no_small_object, erosion_radius)\n",
    "\n",
    "# Postprocessing \n",
    "    mask_cell_label = cell_labelisation(mask_erroded)\n",
    "    #viewer.add_labels(mask_cell_label)\n",
    "    tifffile.imwrite(data_folder_path + \"/results/\" + img_name, mask_cell_label)"
   ]
  },
  {
   "cell_type": "markdown",
   "id": "a6425c55",
   "metadata": {},
   "source": [
    "##  Group 5 images"
   ]
  },
  {
   "cell_type": "code",
   "execution_count": 49,
   "id": "8e16ff95",
   "metadata": {},
   "outputs": [],
   "source": [
    "# Group 5 images parameters \n",
    "\n",
    "blurring_intensity = 10\n",
    "local_threshold_block_size = 15 \n",
    "closing_radius = 2\n",
    "opening_radius = 1\n",
    "min_size_object = 2000\n",
    "min_size_hole = 2000\n",
    "erosion_radius = 3"
   ]
  },
  {
   "cell_type": "code",
   "execution_count": 50,
   "id": "5e0122ce",
   "metadata": {},
   "outputs": [],
   "source": [
    "# Extraction of the group 5 images \n",
    "\n",
    "df_group_5 = df.loc[df['group'] == 5]\n",
    "\n",
    "for cell_fname in df_group_5['cell_fname'] :\n",
    "    img_name = cell_fname +'.tif'\n",
    "    img_path = data_folder_path + \"/data/cleaned/cell_database_cleaned/\" + img_name \n",
    "    img_original = imread(img_path)\n",
    "    \n",
    "# Preprocessing \n",
    "    img_grey = img_greying(img_original)\n",
    "    img_blurred = img_blurring(img_grey, blurring_intensity)\n",
    "\n",
    "# Processing \n",
    "    mask_cell = cell_maskification(img_blurred, local_threshold_block_size)\n",
    "    mask_smooth = smooth(mask_cell, closing_radius, opening_radius)\n",
    "    mask_no_small_hole = small_hole_removing(mask_smooth, min_size_hole)\n",
    "    mask_no_small_object = small_object_removing(mask_no_small_hole, min_size_object)\n",
    "    mask_erroded = cell_erosion(mask_no_small_object, erosion_radius)\n",
    "    mask_no_small_object_2 = small_object_removing(mask_erroded, min_size_object)\n",
    "\n",
    "# Postprocessing \n",
    "    mask_cell_label = cell_labelisation(mask_no_small_object_2)\n",
    "    #viewer.add_labels(mask_cell_label)\n",
    "    tifffile.imwrite(data_folder_path + \"/results/\" + img_name, mask_cell_label)"
   ]
  }
 ],
 "metadata": {
  "kernelspec": {
   "display_name": "Python 3 (ipykernel)",
   "language": "python",
   "name": "python3"
  },
  "language_info": {
   "codemirror_mode": {
    "name": "ipython",
    "version": 3
   },
   "file_extension": ".py",
   "mimetype": "text/x-python",
   "name": "python",
   "nbconvert_exporter": "python",
   "pygments_lexer": "ipython3",
   "version": "3.9.13"
  }
 },
 "nbformat": 4,
 "nbformat_minor": 5
}
